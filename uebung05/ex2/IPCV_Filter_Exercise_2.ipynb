{
 "cells": [
  {
   "cell_type": "markdown",
   "metadata": {
    "collapsed": true
   },
   "source": [
    "# Aufgabe 1: Separierbare FIlter"
   ]
  },
  {
   "cell_type": "code",
   "execution_count": 2,
   "metadata": {},
   "outputs": [],
   "source": [
    "import numpy as np\n",
    "import cv2\n",
    "from matplotlib.pyplot import *\n"
   ]
  },
  {
   "cell_type": "code",
   "execution_count": 6,
   "metadata": {},
   "outputs": [
    {
     "name": "stdout",
     "output_type": "stream",
     "text": [
      "m1 * m2 = \n",
      " [[0.11111111 0.11111111 0.11111111]\n",
      " [0.11111111 0.11111111 0.11111111]\n",
      " [0.11111111 0.11111111 0.11111111]]\n",
      "\n",
      "m2 * m1 = \n",
      " [[0.11111111 0.11111111 0.11111111]\n",
      " [0.11111111 0.11111111 0.11111111]\n",
      " [0.11111111 0.11111111 0.11111111]]\n"
     ]
    }
   ],
   "source": [
    "m1 = 1/ 3 * np.array([[1, 1, 1]]).T\n",
    "m2 = np.transpose(m1)\n",
    "\n",
    "M = m1 * m2\n",
    "print('m1 * m2 = \\n', M)\n",
    "M = m2 * m1\n",
    "print('\\nm2 * m1 = \\n', M)"
   ]
  },
  {
   "cell_type": "markdown",
   "metadata": {},
   "source": [
    "# Aufgabe 2: Medianfilter ist Shiftinvariant"
   ]
  },
  {
   "cell_type": "code",
   "execution_count": 7,
   "metadata": {},
   "outputs": [
    {
     "ename": "error",
     "evalue": "OpenCV(3.4.2) C:\\Miniconda3\\conda-bld\\opencv-suite_1534379934306\\work\\modules\\core\\src\\matrix.cpp:755: error: (-215:Assertion failed) dims <= 2 && step[0] > 0 in function 'cv::Mat::locateROI'\n",
     "output_type": "error",
     "traceback": [
      "\u001b[1;31m---------------------------------------------------------------------------\u001b[0m",
      "\u001b[1;31merror\u001b[0m                                     Traceback (most recent call last)",
      "\u001b[1;32m<ipython-input-7-1fc95ac6f00f>\u001b[0m in \u001b[0;36m<module>\u001b[1;34m()\u001b[0m\n\u001b[0;32m      3\u001b[0m \u001b[0mimshow\u001b[0m\u001b[1;33m(\u001b[0m\u001b[0mpadded\u001b[0m\u001b[1;33m)\u001b[0m\u001b[1;33m\u001b[0m\u001b[0m\n\u001b[0;32m      4\u001b[0m \u001b[0mkernel\u001b[0m \u001b[1;33m=\u001b[0m \u001b[0mnp\u001b[0m\u001b[1;33m.\u001b[0m\u001b[0mones\u001b[0m\u001b[1;33m(\u001b[0m\u001b[1;33m(\u001b[0m\u001b[1;36m5\u001b[0m\u001b[1;33m,\u001b[0m\u001b[1;36m5\u001b[0m\u001b[1;33m)\u001b[0m\u001b[1;33m,\u001b[0m\u001b[0mnp\u001b[0m\u001b[1;33m.\u001b[0m\u001b[0mfloat32\u001b[0m\u001b[1;33m)\u001b[0m\u001b[1;33m/\u001b[0m\u001b[1;36m25\u001b[0m\u001b[1;33m\u001b[0m\u001b[0m\n\u001b[1;32m----> 5\u001b[1;33m \u001b[0moutput\u001b[0m \u001b[1;33m=\u001b[0m \u001b[0mcv2\u001b[0m\u001b[1;33m.\u001b[0m\u001b[0mfilter2D\u001b[0m\u001b[1;33m(\u001b[0m\u001b[0mimg\u001b[0m\u001b[1;33m,\u001b[0m \u001b[1;33m-\u001b[0m\u001b[1;36m1\u001b[0m\u001b[1;33m,\u001b[0m \u001b[0mkernel\u001b[0m\u001b[1;33m)\u001b[0m\u001b[1;33m\u001b[0m\u001b[0m\n\u001b[0m\u001b[0;32m      6\u001b[0m \u001b[0mimshow\u001b[0m\u001b[1;33m(\u001b[0m\u001b[0moutput\u001b[0m\u001b[1;33m)\u001b[0m\u001b[1;33m\u001b[0m\u001b[0m\n\u001b[0;32m      7\u001b[0m \u001b[1;33m\u001b[0m\u001b[0m\n",
      "\u001b[1;31merror\u001b[0m: OpenCV(3.4.2) C:\\Miniconda3\\conda-bld\\opencv-suite_1534379934306\\work\\modules\\core\\src\\matrix.cpp:755: error: (-215:Assertion failed) dims <= 2 && step[0] > 0 in function 'cv::Mat::locateROI'\n"
     ]
    },
    {
     "data": {
      "image/png": "[encoded data removed]",
      "text/plain": [
       "<Figure size 432x288 with 1 Axes>"
      ]
     },
     "metadata": {
      "needs_background": "light"
     },
     "output_type": "display_data"
    }
   ],
   "source": [
    "img = cv2.imread(\"images/cameraman.jpg\")\n",
    "padded = cv2.copyMakeBorder(img, 1, 1, 2, 2, cv2.BORDER_CONSTANT, value=0)\n",
    "imshow(padded)\n",
    "kernel = np.ones((5,5),np.float32)/25\n",
    "output = cv2.filter2D(img, -1, kernel)\n",
    "imshow(output)\n",
    "\n",
    "subplot(1, 2, 1) ,imshow(img)\n",
    "subplot(1, 2, 2) ,imshow(output)\n",
    "show()"
   ]
  },
  {
   "cell_type": "markdown",
   "metadata": {},
   "source": [
    "Bei aufgabe 2 ist einiges noch unklar, einige Befehle lassen sich so nicht ohne weiteres übersetzen. Was sollten die Befehle genau machen?\n"
   ]
  },
  {
   "cell_type": "markdown",
   "metadata": {},
   "source": [
    "# Aufgabe 3: Laplace-Filter"
   ]
  },
  {
   "cell_type": "markdown",
   "metadata": {},
   "source": [
    "Schärfen Sie das Bild lena.tif (auf ILIAS) mit Hilfe des Laplace-Filters. Diese Operation wird heutzutage auf den meisten modernen Kameras automatisch durchgeführt.\n",
    "Ergänzen Sie dazu das folgende MATLAB/Octave File:"
   ]
  },
  {
   "cell_type": "code",
   "execution_count": null,
   "metadata": {},
   "outputs": [],
   "source": [
    "img = cv2.imread(\"images/lena_std.tif\")\n",
    "img = cv2.cvtColor(img, cv2.COLOR_BGR2RGB)\n",
    "kernel = np.array([[0,-1,0], [-1,5,-1], [0,-1,0]])\n",
    "im = cv2.filter2D(img, -1, kernel)\n",
    "subplot(1, 2, 1), imshow(img)\n",
    "subplot(1, 2, 2), imshow(im)\n",
    "show()"
   ]
  },
  {
   "cell_type": "markdown",
   "metadata": {},
   "source": [
    "# Aufgabe 4: Betrag des Gradienten\n"
   ]
  },
  {
   "cell_type": "markdown",
   "metadata": {},
   "source": [
    "Führen Sie mit dem Bild Zebra.png die gleichen Operationen durch wie in der nachfolgenden Bildserie gezeigt. Schreiben Sie alle MATLAB/Octave-Befehle auf und vergleichen Ihr Resultat mit der hier gezeigten Bildserie!"
   ]
  },
  {
   "cell_type": "code",
   "execution_count": 3,
   "metadata": {},
   "outputs": [
    {
     "ename": "error",
     "evalue": "OpenCV(3.4.2) C:\\Miniconda3\\conda-bld\\opencv-suite_1534379934306\\work\\modules\\core\\src\\matrix.cpp:755: error: (-215:Assertion failed) dims <= 2 && step[0] > 0 in function 'cv::Mat::locateROI'\n",
     "output_type": "error",
     "traceback": [
      "\u001b[1;31m---------------------------------------------------------------------------\u001b[0m",
      "\u001b[1;31merror\u001b[0m                                     Traceback (most recent call last)",
      "\u001b[1;32m<ipython-input-3-ff0cff67d7f5>\u001b[0m in \u001b[0;36m<module>\u001b[1;34m()\u001b[0m\n\u001b[0;32m      3\u001b[0m \u001b[0mkernelX\u001b[0m \u001b[1;33m=\u001b[0m \u001b[0mnp\u001b[0m\u001b[1;33m.\u001b[0m\u001b[0marray\u001b[0m\u001b[1;33m(\u001b[0m\u001b[1;33m[\u001b[0m\u001b[1;33m[\u001b[0m\u001b[1;33m-\u001b[0m\u001b[1;36m1\u001b[0m\u001b[1;33m,\u001b[0m \u001b[1;36m0\u001b[0m\u001b[1;33m,\u001b[0m \u001b[1;36m1\u001b[0m\u001b[1;33m]\u001b[0m\u001b[1;33m,\u001b[0m \u001b[1;33m[\u001b[0m\u001b[1;33m-\u001b[0m\u001b[1;36m2\u001b[0m\u001b[1;33m,\u001b[0m \u001b[1;36m0\u001b[0m\u001b[1;33m,\u001b[0m \u001b[1;36m2\u001b[0m\u001b[1;33m]\u001b[0m\u001b[1;33m,\u001b[0m \u001b[1;33m[\u001b[0m\u001b[1;33m-\u001b[0m\u001b[1;36m1\u001b[0m\u001b[1;33m,\u001b[0m \u001b[1;36m0\u001b[0m\u001b[1;33m,\u001b[0m \u001b[1;36m1\u001b[0m\u001b[1;33m]\u001b[0m\u001b[1;33m]\u001b[0m\u001b[1;33m)\u001b[0m\u001b[1;33m\u001b[0m\u001b[0m\n\u001b[0;32m      4\u001b[0m \u001b[1;33m\u001b[0m\u001b[0m\n\u001b[1;32m----> 5\u001b[1;33m \u001b[0mdx\u001b[0m \u001b[1;33m=\u001b[0m \u001b[0mcv2\u001b[0m\u001b[1;33m.\u001b[0m\u001b[0mfilter2D\u001b[0m\u001b[1;33m(\u001b[0m\u001b[0mimg\u001b[0m\u001b[1;33m,\u001b[0m \u001b[0mcv2\u001b[0m\u001b[1;33m.\u001b[0m\u001b[0mCV_64F\u001b[0m\u001b[1;33m,\u001b[0m \u001b[0mkernelX\u001b[0m\u001b[1;33m)\u001b[0m\u001b[1;33m\u001b[0m\u001b[0m\n\u001b[0m\u001b[0;32m      6\u001b[0m \u001b[0mdy\u001b[0m \u001b[1;33m=\u001b[0m \u001b[0mcv2\u001b[0m\u001b[1;33m.\u001b[0m\u001b[0mfilter2D\u001b[0m\u001b[1;33m(\u001b[0m\u001b[0mimg\u001b[0m\u001b[1;33m,\u001b[0m \u001b[0mcv2\u001b[0m\u001b[1;33m.\u001b[0m\u001b[0mCV_64F\u001b[0m\u001b[1;33m,\u001b[0m \u001b[0mkernelY\u001b[0m\u001b[1;33m)\u001b[0m\u001b[1;33m\u001b[0m\u001b[0m\n\u001b[0;32m      7\u001b[0m \u001b[1;33m\u001b[0m\u001b[0m\n",
      "\u001b[1;31merror\u001b[0m: OpenCV(3.4.2) C:\\Miniconda3\\conda-bld\\opencv-suite_1534379934306\\work\\modules\\core\\src\\matrix.cpp:755: error: (-215:Assertion failed) dims <= 2 && step[0] > 0 in function 'cv::Mat::locateROI'\n"
     ]
    }
   ],
   "source": [
    "img = cv2.imread(\"images/Zebra.png\", 0)\n",
    "kernelY = np.array([[-1, -2, -1], [0, 0, 0], [1, 2, 1]])\n",
    "kernelX = np.array([[-1, 0, 1], [-2, 0, 2], [-1, 0, 1]])\n",
    "\n",
    "dx = cv2.filter2D(img, cv2.CV_64F, kernelX)\n",
    "dy = cv2.filter2D(img, cv2.CV_64F, kernelY)\n",
    "\n",
    "absoluteGradient = np.sqrt(np.add(np.square(dx), np.square(dy)))\n",
    "\n",
    "subplot(2, 2, 1), imshow(img, cmap = 'gray'), title('original'), xticks([]), yticks([])\n",
    "subplot(2, 2, 2), imshow(dx, cmap = 'gray'), title('dx'), xticks([]), yticks([])\n",
    "subplot(2, 2, 3), imshow(dy, cmap = 'gray'), title('dy'), xticks([]), yticks([])\n",
    "subplot(2, 2, 4), imshow(absoluteGradient, cmap = 'gray'), title('(dx*dx + dy*dy)^1/2'), xticks([]), yticks([])\n",
    "\n",
    "\n",
    "show()\n",
    "\n"
   ]
  },
  {
   "cell_type": "markdown",
   "metadata": {},
   "source": [
    "# Aufgabe 5: Gauss- und Laplacepyramide"
   ]
  },
  {
   "cell_type": "markdown",
   "metadata": {},
   "source": [
    "Erstellen Sie vom Bild der Lena (lena.tif) die Gauss- und die Laplacepyramide. Verwenden Sie dazu die auf ILIAS bereitgestellten MATLAB/Octave-files. Stellen Sie ihr Resultat in der hier gezeigten Form dar.\n",
    "Kontrollieren Sie dann mit den in MATLAB vorhandenen Befehlen impyramid und imresize ihr Resultat. Siehe auch https://ch.mathworks.com/help/images/ref/impyramid.html"
   ]
  },
  {
   "cell_type": "code",
   "execution_count": null,
   "metadata": {},
   "outputs": [],
   "source": [
    "img = cv2.imread('images/lena_std.tif')\n",
    "img = cv2.cvtColor(img, cv2.COLOR_BGR2RGB)\n",
    "\n",
    "level0 = img\n",
    "level1 = cv2.pyrDown(level0)\n",
    "level2 = cv2.pyrDown(level1)\n",
    "level3 = cv2.pyrDown(level2)\n",
    "\n",
    "laplacian0 = cv2.subtract(level0, cv2.pyrUp(level1))\n",
    "laplacian1 = cv2.subtract(level1, cv2.pyrUp(level2))\n",
    "laplacian2 = cv2.subtract(level2, cv2.pyrUp(level3))\n",
    "\n",
    "subplot(1, 3, 1), imshow(level0), title('level0'), xticks([]), yticks([])\n",
    "subplot(1, 3, 2), imshow(level1), title('level1'), xticks([]), yticks([])\n",
    "subplot(1, 3, 3), imshow(level2), title('level2'), xticks([]), yticks([])\n",
    "show()\n",
    "\n",
    "subplot(1, 3, 1), imshow(4 * laplacian0), title('laplacian0'), xticks([]), yticks([])\n",
    "subplot(1, 3, 2), imshow(4 * laplacian1), title('laplacian1'), xticks([]), yticks([])\n",
    "subplot(1, 3, 3), imshow(4 * laplacian2), title('laplacian2'), xticks([]), yticks([])\n",
    "show()"
   ]
  },
  {
   "cell_type": "markdown",
   "metadata": {},
   "source": [
    "The level 0 image can now be reconstructed using the lower resolution image and the laplacian:"
   ]
  },
  {
   "cell_type": "code",
   "execution_count": null,
   "metadata": {},
   "outputs": [],
   "source": [
    "combined2 = cv2.add(laplacian2, cv2.pyrUp(level3))\n",
    "combined1 = cv2.add(laplacian1, cv2.pyrUp(level2))\n",
    "combined0 = cv2.add(laplacian0, cv2.pyrUp(level1))\n",
    "\n",
    "subplot(1, 3, 1), imshow(combined0), title('combined0'), xticks([]), yticks([])\n",
    "subplot(1, 3, 2), imshow(combined1), title('combined1'), xticks([]), yticks([])\n",
    "subplot(1, 3, 3), imshow(combined2), title('combined2'), xticks([]), yticks([])\n",
    "show()"
   ]
  },
  {
   "cell_type": "markdown",
   "metadata": {},
   "source": [
    "# Anhang\n",
    "\n",
    "Das folgende Pythonscript zeigt, wie die Bilder einer Orange und eines Apfels verschmolzen werden können zu einem \"Orphel\" bzw. zu einer \"Apfange\". Trivialerweise könnte man einfach je eine Hälfte der Frucht behalten und daraus die kombinierte Frucht erzeugen. Mit Hilfe der Imagepyramiden der beiden Früchte wird der scharfe Übergang aber aufgeweicht und es entsteht eine \"natürlichere\" Frucht.\n",
    "\n",
    "Aufgaben:\n",
    "\n",
    "1. Zeigen Sie die beiden Früchte\n",
    "2. Zeigen Sie für beide Früchte jeweils die Gauss'sche wie auch die Laplace'sche Bildpyramide\n",
    "3. Studieren Sie das Kommando zip und erklären Sie es, insbesondere auch im Zusammenhang mit der Anwendung im Script\n",
    "4. Zeigen Sie die rekonstruierte Pyramide\n",
    "\n",
    "Ziel ist es, dass Sie das folgende Script vollständig verstehen und für Ihre eigenen Anwendungen anpassen können."
   ]
  },
  {
   "cell_type": "code",
   "execution_count": null,
   "metadata": {},
   "outputs": [],
   "source": []
  },
  {
   "cell_type": "code",
   "execution_count": null,
   "metadata": {},
   "outputs": [],
   "source": [
    "import cv2\n",
    "import numpy as np,sys\n",
    "\n",
    "A = cv2.imread('../Filtering_Correlation_Convolution/figs/apple.jpg')\n",
    "B = cv2.imread('../Filtering_Correlation_Convolution/figs/orange.jpg')\n",
    "\n",
    "# generate Gaussian pyramid for A\n",
    "G = A.copy()\n",
    "GaussPyramid_A = [G]\n",
    "for i in np.arange(6):\n",
    "    G = cv2.pyrDown(G)\n",
    "    GaussPyramid_A.append(G)\n",
    "\n",
    "# generate Gaussian pyramid for B\n",
    "G = B.copy()\n",
    "GaussPyramid_B = [G]\n",
    "for i in np.arange(6):\n",
    "    G = cv2.pyrDown(G)\n",
    "    GaussPyramid_B.append(G)\n",
    "\n",
    "# generate Laplacian Pyramid for A\n",
    "LaplacePyramid_A = [gpA[5]]\n",
    "for i in np.arange(5,0,-1):\n",
    "    GE = cv2.pyrUp(gpA[i])\n",
    "    L = cv2.subtract(gpA[i-1],GE)\n",
    "    LaplacePyramid_A.append(L)\n",
    "\n",
    "# generate Laplacian Pyramid for B\n",
    "LaplacePyramid_B = [gpB[5]]\n",
    "for i in np.arange(5,0,-1):\n",
    "    GE = cv2.pyrUp(gpB[i])\n",
    "    L = cv2.subtract(gpB[i-1],GE)\n",
    "    LaplacePyramid_B.append(L)\n",
    "\n",
    "# Now add left and right halves of images in each level\n",
    "LS = []\n",
    "for Laplace_A,Laplace_B in zip(LaplacePyramid_A,LaplacePyramid_B):\n",
    "    rows,cols,dpt = Laplace_A.shape\n",
    "    ls = np.hstack((Laplace_A[:,0:cols//2], Laplace_B[:,cols//2:]))\n",
    "    LS.append(ls)\n",
    "\n",
    "# now reconstruct\n",
    "ls_ = LS[0]\n",
    "for i in np.arange(1,6):\n",
    "    ls_ = cv2.pyrUp(ls_)\n",
    "    ls_ = cv2.add(ls_, LS[i])\n",
    "\n",
    "# image with direct connecting each half\n",
    "real = np.hstack((A[:,:cols//2],B[:,cols//2:]))\n",
    "\n",
    "cv2.imwrite('Pyramid_blending2.jpg',ls_)\n",
    "cv2.imwrite('Direct_blending.jpg',real)"
   ]
  },
  {
   "cell_type": "code",
   "execution_count": null,
   "metadata": {},
   "outputs": [],
   "source": []
  }
 ],
 "metadata": {
  "kernelspec": {
   "display_name": "Python 3",
   "language": "python",
   "name": "python3"
  },
  "language_info": {
   "codemirror_mode": {
    "name": "ipython",
    "version": 3
   },
   "file_extension": ".py",
   "mimetype": "text/x-python",
   "name": "python",
   "nbconvert_exporter": "python",
   "pygments_lexer": "ipython3",
   "version": "3.7.0"
  }
 },
 "nbformat": 4,
 "nbformat_minor": 1
}
